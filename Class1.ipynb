{
  "cells": [
    {
      "cell_type": "code",
      "execution_count": null,
      "id": "1481c588",
      "metadata": {
        "id": "1481c588",
        "outputId": "cb279584-6b8a-4a7a-b511-1b8f98ab56f1"
      },
      "outputs": [
        {
          "data": {
            "text/plain": [
              "'\\nMulti Line Comment\\nClass Objective\\nPython Basics: Print statements, comments, simple input/output, output formatting.\\nwriting simple python programs, print(), input(), format(), use of \"+\", \",\" in output printing. \\n'"
            ]
          },
          "execution_count": 1,
          "metadata": {},
          "output_type": "execute_result"
        }
      ],
      "source": [
        "'''\n",
        "Multi Line Comment\n",
        "Class Objective\n",
        "Python Basics: Print statements, comments, simple input/output, output formatting.\n",
        "writing simple python programs, print(), input(), format(), use of \"+\", \",\" in output printing. \n",
        "'''"
      ]
    },
    {
      "cell_type": "code",
      "execution_count": null,
      "id": "e182bd66",
      "metadata": {
        "id": "e182bd66",
        "outputId": "2508f507-56bd-4152-d877-cfa62edf5c47"
      },
      "outputs": [
        {
          "ename": "SyntaxError",
          "evalue": "invalid syntax (2637467124.py, line 1)",
          "output_type": "error",
          "traceback": [
            "\u001b[1;36m  File \u001b[1;32m\"C:\\Users\\vikas\\AppData\\Local\\Temp\\ipykernel_12516\\2637467124.py\"\u001b[1;36m, line \u001b[1;32m1\u001b[0m\n\u001b[1;33m    Multi Line Comment\u001b[0m\n\u001b[1;37m          ^\u001b[0m\n\u001b[1;31mSyntaxError\u001b[0m\u001b[1;31m:\u001b[0m invalid syntax\n"
          ]
        }
      ],
      "source": [
        "Multi Line Comment"
      ]
    },
    {
      "cell_type": "code",
      "execution_count": null,
      "id": "3cfabe20",
      "metadata": {
        "id": "3cfabe20"
      },
      "outputs": [],
      "source": [
        "#Single line Comment"
      ]
    },
    {
      "cell_type": "code",
      "execution_count": null,
      "id": "87aa1a8e",
      "metadata": {
        "id": "87aa1a8e",
        "outputId": "37ab792d-5c8f-4899-e1c9-24638b8810be"
      },
      "outputs": [
        {
          "data": {
            "text/plain": [
              "'\\nMulti Line Comment\\nClass Objective\\nPython Basics: Print statements, comments, simple input/output, output formatting.\\nwriting simple python programs, print(), input(), format(), use of \"+\", \",\" in output printing. \\n'"
            ]
          },
          "execution_count": 4,
          "metadata": {},
          "output_type": "execute_result"
        }
      ],
      "source": [
        "'''\n",
        "Multi Line Comment\n",
        "Class Objective\n",
        "Python Basics: Print statements, comments, simple input/output, output formatting.\n",
        "writing simple python programs, print(), input(), format(), use of \"+\", \",\" in output printing. \n",
        "'''"
      ]
    },
    {
      "cell_type": "code",
      "execution_count": null,
      "id": "44023181",
      "metadata": {
        "id": "44023181",
        "outputId": "acbc8f3d-8a03-4683-f318-1dc0a71fa653"
      },
      "outputs": [
        {
          "name": "stdout",
          "output_type": "stream",
          "text": [
            "Help on built-in function print in module builtins:\n",
            "\n",
            "print(...)\n",
            "    print(value, ..., sep=' ', end='\\n', file=sys.stdout, flush=False)\n",
            "    \n",
            "    Prints the values to a stream, or to sys.stdout by default.\n",
            "    Optional keyword arguments:\n",
            "    file:  a file-like object (stream); defaults to the current sys.stdout.\n",
            "    sep:   string inserted between values, default a space.\n",
            "    end:   string appended after the last value, default a newline.\n",
            "    flush: whether to forcibly flush the stream.\n",
            "\n"
          ]
        }
      ],
      "source": [
        "help(print)\n",
        "'''\n",
        "print(value, ..., sep=' ', end='\\n', file=sys.stdout, flush=False)\n",
        "    \n",
        "    Prints the values to a stream, or to sys.stdout by default.\n",
        "    Optional keyword arguments:\n",
        "    file:  a file-like object (stream); defaults to the current sys.stdout.\n",
        "    sep:   string inserted between values, default a space.\n",
        "    end:   string appended after the last value, default a newline.\n",
        "    flush: whether to forcibly flush the stream.\n",
        "'''"
      ]
    },
    {
      "cell_type": "code",
      "execution_count": null,
      "id": "b2257746",
      "metadata": {
        "id": "b2257746",
        "outputId": "d31b1a44-6187-4e67-da23-d3c85cf9e0f4"
      },
      "outputs": [
        {
          "name": "stdout",
          "output_type": "stream",
          "text": [
            "Hi\n"
          ]
        }
      ],
      "source": [
        "print('Hi')"
      ]
    },
    {
      "cell_type": "code",
      "execution_count": null,
      "id": "8540ef8b",
      "metadata": {
        "id": "8540ef8b",
        "outputId": "95749c60-0f9a-48c5-fa93-16693bdb979f"
      },
      "outputs": [
        {
          "data": {
            "text/plain": [
              "'Python'"
            ]
          },
          "execution_count": 7,
          "metadata": {},
          "output_type": "execute_result"
        }
      ],
      "source": [
        "#String\n",
        "'Python'"
      ]
    },
    {
      "cell_type": "code",
      "execution_count": null,
      "id": "aa009766",
      "metadata": {
        "id": "aa009766",
        "outputId": "cb67430f-ed3f-4b18-a5e5-bafca3d4461c"
      },
      "outputs": [
        {
          "data": {
            "text/plain": [
              "'Python'"
            ]
          },
          "execution_count": 8,
          "metadata": {},
          "output_type": "execute_result"
        }
      ],
      "source": [
        "#String\n",
        "\"Python\""
      ]
    },
    {
      "cell_type": "code",
      "execution_count": null,
      "id": "920e15c0",
      "metadata": {
        "id": "920e15c0",
        "outputId": "1ee933e6-f846-4766-8a07-e77b9e14572e"
      },
      "outputs": [
        {
          "name": "stdout",
          "output_type": "stream",
          "text": [
            "Python\n"
          ]
        }
      ],
      "source": [
        "print(\"Python\")"
      ]
    },
    {
      "cell_type": "code",
      "execution_count": null,
      "id": "835769d4",
      "metadata": {
        "id": "835769d4",
        "outputId": "e0d2bacd-b189-4ca4-cb89-baeaf58335b1"
      },
      "outputs": [
        {
          "name": "stdout",
          "output_type": "stream",
          "text": [
            "Python Analytics Programming\n"
          ]
        }
      ],
      "source": [
        "print(\"Python\", \"Analytics\",\"Programming\")"
      ]
    },
    {
      "cell_type": "code",
      "execution_count": null,
      "id": "cd10b779",
      "metadata": {
        "id": "cd10b779",
        "outputId": "5fa27474-aabd-4522-e1d1-e79f8a012f07"
      },
      "outputs": [
        {
          "name": "stdout",
          "output_type": "stream",
          "text": [
            "Python------Analytics------Programming\n"
          ]
        }
      ],
      "source": [
        "print(\"Python\", \"Analytics\",\"Programming\", sep = '------')"
      ]
    },
    {
      "cell_type": "code",
      "execution_count": null,
      "id": "be70e4d4",
      "metadata": {
        "id": "be70e4d4",
        "outputId": "26aba477-c193-4c87-b23f-c5ab79fa709c"
      },
      "outputs": [
        {
          "name": "stdout",
          "output_type": "stream",
          "text": [
            "Hi Aman\n"
          ]
        }
      ],
      "source": [
        "print(\"Hi\", \"Aman\")"
      ]
    },
    {
      "cell_type": "code",
      "execution_count": null,
      "id": "707d51ff",
      "metadata": {
        "id": "707d51ff",
        "outputId": "a18a1123-5148-427c-992d-cb51acd47bae"
      },
      "outputs": [
        {
          "name": "stdout",
          "output_type": "stream",
          "text": [
            "Hi-Aman\n"
          ]
        }
      ],
      "source": [
        "print(\"Hi\", \"Aman\", sep='-')"
      ]
    },
    {
      "cell_type": "code",
      "execution_count": null,
      "id": "f1f9a66c",
      "metadata": {
        "id": "f1f9a66c",
        "outputId": "d8b2d744-9c57-4fc6-ca53-3f78bf5923b2"
      },
      "outputs": [
        {
          "name": "stdout",
          "output_type": "stream",
          "text": [
            "Hi Aman\n"
          ]
        }
      ],
      "source": [
        "print(\"Hi Aman\")"
      ]
    },
    {
      "cell_type": "code",
      "execution_count": null,
      "id": "b3a3b08b",
      "metadata": {
        "id": "b3a3b08b",
        "outputId": "5b8bf346-9c29-4df1-ceef-182ff407c33a"
      },
      "outputs": [
        {
          "data": {
            "text/plain": [
              "'Hi 5 % @ Python'"
            ]
          },
          "execution_count": 16,
          "metadata": {},
          "output_type": "execute_result"
        }
      ],
      "source": [
        "\"Hi 5 % @ Python\""
      ]
    },
    {
      "cell_type": "code",
      "execution_count": null,
      "id": "e50b9378",
      "metadata": {
        "id": "e50b9378",
        "outputId": "ec511972-b3cc-483c-db96-a1078cfbb6f5"
      },
      "outputs": [
        {
          "name": "stdout",
          "output_type": "stream",
          "text": [
            "Hi Aman\n"
          ]
        }
      ],
      "source": [
        "print(\"Hi\",\"Aman\")"
      ]
    },
    {
      "cell_type": "code",
      "execution_count": null,
      "id": "283cdee6",
      "metadata": {
        "id": "283cdee6",
        "outputId": "63639801-ec58-497d-9137-954ebb02ce71"
      },
      "outputs": [
        {
          "name": "stdout",
          "output_type": "stream",
          "text": [
            "Hi\n",
            "Welcome to\n",
            "Python\n"
          ]
        }
      ],
      "source": [
        "print (\"Hi\")\n",
        "print(\"Welcome to\")\n",
        "print(\"Python\")"
      ]
    },
    {
      "cell_type": "code",
      "execution_count": null,
      "id": "436a2eda",
      "metadata": {
        "id": "436a2eda"
      },
      "outputs": [],
      "source": [
        "'''\n",
        "Sepcial combinations of String \n",
        "\\n New Line\n",
        "\\t Tab\n",
        "'''"
      ]
    },
    {
      "cell_type": "code",
      "execution_count": null,
      "id": "33e61f6b",
      "metadata": {
        "id": "33e61f6b",
        "outputId": "95b77aeb-6454-48d1-adf1-193bcabae4f3"
      },
      "outputs": [
        {
          "name": "stdout",
          "output_type": "stream",
          "text": [
            "Hi\n",
            "Welcome\n",
            "Python\n"
          ]
        }
      ],
      "source": [
        "print (\"Hi\", end='\\n')\n",
        "print(\"Welcome\")\n",
        "print(\"Python\")"
      ]
    },
    {
      "cell_type": "code",
      "execution_count": null,
      "id": "705cf3dc",
      "metadata": {
        "id": "705cf3dc",
        "outputId": "55adc7bd-9703-4bcd-902c-7c475a427f85"
      },
      "outputs": [
        {
          "name": "stdout",
          "output_type": "stream",
          "text": [
            "Hi   Welcome***to---Python\n"
          ]
        }
      ],
      "source": [
        "print (\"Hi\", end='   ')\n",
        "print(\"Welcome\", \"to\", sep = '***', end='---')\n",
        "print(\"Python\")"
      ]
    },
    {
      "cell_type": "code",
      "execution_count": null,
      "id": "7dd34d5b",
      "metadata": {
        "id": "7dd34d5b",
        "outputId": "4eebc6b7-dbe7-4f68-b419-d4005e76d365"
      },
      "outputs": [
        {
          "name": "stdout",
          "output_type": "stream",
          "text": [
            "hi    "
          ]
        }
      ],
      "source": [
        "print(\"hi\", \"  \", end=' ')\n"
      ]
    },
    {
      "cell_type": "code",
      "execution_count": null,
      "id": "dbacef45",
      "metadata": {
        "id": "dbacef45",
        "outputId": "d57c1607-fc15-4ba7-b1cb-eca78416e96b"
      },
      "outputs": [
        {
          "data": {
            "text/plain": [
              "'hi \\n Welcome'"
            ]
          },
          "execution_count": 32,
          "metadata": {},
          "output_type": "execute_result"
        }
      ],
      "source": [
        "\"hi \\n Welcome\""
      ]
    },
    {
      "cell_type": "code",
      "execution_count": null,
      "id": "ab43adb5",
      "metadata": {
        "id": "ab43adb5",
        "outputId": "9685aade-5a0d-4b83-e943-46c27d495097"
      },
      "outputs": [
        {
          "name": "stdout",
          "output_type": "stream",
          "text": [
            "whoe's\n"
          ]
        }
      ],
      "source": [
        "print(\"whoe's\")\n"
      ]
    },
    {
      "cell_type": "code",
      "execution_count": null,
      "id": "8be21d35",
      "metadata": {
        "id": "8be21d35",
        "outputId": "e908afeb-7af7-4280-a913-e1556e8f90d4"
      },
      "outputs": [
        {
          "name": "stdout",
          "output_type": "stream",
          "text": [
            "Help on built-in function print in module builtins:\n",
            "\n",
            "print(...)\n",
            "    print(value, ..., sep=' ', end='\\n', file=sys.stdout, flush=False)\n",
            "    \n",
            "    Prints the values to a stream, or to sys.stdout by default.\n",
            "    Optional keyword arguments:\n",
            "    file:  a file-like object (stream); defaults to the current sys.stdout.\n",
            "    sep:   string inserted between values, default a space.\n",
            "    end:   string appended after the last value, default a newline.\n",
            "    flush: whether to forcibly flush the stream.\n",
            "\n"
          ]
        }
      ],
      "source": [
        "help (print)"
      ]
    },
    {
      "cell_type": "code",
      "execution_count": null,
      "id": "ab14e6d0",
      "metadata": {
        "id": "ab14e6d0"
      },
      "outputs": [],
      "source": [
        "#variable\n",
        "s = \"Python\""
      ]
    },
    {
      "cell_type": "code",
      "execution_count": null,
      "id": "047173d7",
      "metadata": {
        "id": "047173d7",
        "outputId": "dff9b55e-cf58-4a29-eb4b-8c5d57ccf49d"
      },
      "outputs": [
        {
          "name": "stdout",
          "output_type": "stream",
          "text": [
            "s\n"
          ]
        }
      ],
      "source": [
        "print(\"s\")"
      ]
    },
    {
      "cell_type": "code",
      "execution_count": null,
      "id": "cd001d55",
      "metadata": {
        "id": "cd001d55",
        "outputId": "5c4a3999-1da1-4048-ddba-36340090845e"
      },
      "outputs": [
        {
          "name": "stdout",
          "output_type": "stream",
          "text": [
            "Python\n"
          ]
        }
      ],
      "source": [
        "print(s)"
      ]
    },
    {
      "cell_type": "code",
      "execution_count": null,
      "id": "880b07ff",
      "metadata": {
        "id": "880b07ff"
      },
      "outputs": [],
      "source": [
        "lc = \"India\"\n",
        "wc = \"USA\""
      ]
    },
    {
      "cell_type": "code",
      "execution_count": null,
      "id": "2eeb70b6",
      "metadata": {
        "id": "2eeb70b6",
        "outputId": "65a511c4-c4f0-4e7e-8dad-6540363dfc0f"
      },
      "outputs": [
        {
          "name": "stdout",
          "output_type": "stream",
          "text": [
            "India USA\n"
          ]
        }
      ],
      "source": [
        "print(lc, wc)"
      ]
    },
    {
      "cell_type": "code",
      "execution_count": null,
      "id": "fd5212ba",
      "metadata": {
        "id": "fd5212ba",
        "outputId": "472bcaf8-a671-4266-8d90-03c00657292b"
      },
      "outputs": [
        {
          "name": "stdout",
          "output_type": "stream",
          "text": [
            "I live in India and I work in USA\n"
          ]
        }
      ],
      "source": [
        "print(\"I live in India and I work in USA\")"
      ]
    },
    {
      "cell_type": "code",
      "execution_count": null,
      "id": "49da14d5",
      "metadata": {
        "id": "49da14d5",
        "outputId": "1ba215e2-fa5b-4c96-86a0-1ec4ca5c918d"
      },
      "outputs": [
        {
          "name": "stdout",
          "output_type": "stream",
          "text": [
            "I live in lc and I work in wc\n"
          ]
        }
      ],
      "source": [
        "print(\"I live in lc and I work in wc\")"
      ]
    },
    {
      "cell_type": "code",
      "execution_count": null,
      "id": "d58ce62d",
      "metadata": {
        "id": "d58ce62d",
        "outputId": "6af1131d-b8ff-4465-b184-ade1e2bf16e1"
      },
      "outputs": [
        {
          "name": "stdout",
          "output_type": "stream",
          "text": [
            "I live in India and I work in USA\n"
          ]
        }
      ],
      "source": [
        "print(\"I live in\", lc, \"and I work in\", wc)"
      ]
    },
    {
      "cell_type": "code",
      "execution_count": null,
      "id": "8ccc314a",
      "metadata": {
        "id": "8ccc314a",
        "outputId": "190a8b70-319b-4724-b931-a285d0258d7a"
      },
      "outputs": [
        {
          "name": "stdout",
          "output_type": "stream",
          "text": [
            "I live in-India-and I work in-USA\n"
          ]
        }
      ],
      "source": [
        "print(\"I live in\", lc, \"and I work in\", wc, sep='-')"
      ]
    },
    {
      "cell_type": "code",
      "execution_count": null,
      "id": "a3206cc8",
      "metadata": {
        "id": "a3206cc8"
      },
      "outputs": [],
      "source": [
        "#Sting Formating "
      ]
    },
    {
      "cell_type": "code",
      "execution_count": null,
      "id": "1417d2c8",
      "metadata": {
        "id": "1417d2c8",
        "outputId": "3166e385-d7b9-49d5-e53e-4f816182ea6e"
      },
      "outputs": [
        {
          "name": "stdout",
          "output_type": "stream",
          "text": [
            "I live in India and I work in USA\n"
          ]
        }
      ],
      "source": [
        "print(f\"I live in {lc} and I work in {wc}\")"
      ]
    },
    {
      "cell_type": "code",
      "execution_count": null,
      "id": "35be4d75",
      "metadata": {
        "id": "35be4d75",
        "outputId": "ebbdfca0-d144-4955-a961-38141b906929"
      },
      "outputs": [
        {
          "name": "stdout",
          "output_type": "stream",
          "text": [
            "I live in India and I work in USA\n"
          ]
        }
      ],
      "source": [
        "print(f\"I live in {lc} and I work in {wc}\", sep='-')"
      ]
    },
    {
      "cell_type": "code",
      "execution_count": null,
      "id": "8b4824bd",
      "metadata": {
        "id": "8b4824bd",
        "outputId": "4b45c0be-65a6-4bcb-d4ff-bbb5d0f558aa"
      },
      "outputs": [
        {
          "name": "stdout",
          "output_type": "stream",
          "text": [
            "I live in India and I work in USA\n"
          ]
        }
      ],
      "source": [
        "print(\"I live in {0} and I work in {1}\".format(lc,wc))"
      ]
    },
    {
      "cell_type": "code",
      "execution_count": null,
      "id": "4c64799b",
      "metadata": {
        "id": "4c64799b",
        "outputId": "6339e476-ce6c-4a52-e14f-fee5bae69699"
      },
      "outputs": [
        {
          "name": "stdout",
          "output_type": "stream",
          "text": [
            "I live in USA and I work in India\n"
          ]
        }
      ],
      "source": [
        "print(\"I live in {1} and I work in {0}\".format(lc,wc))"
      ]
    },
    {
      "cell_type": "code",
      "execution_count": null,
      "id": "13de196c",
      "metadata": {
        "id": "13de196c",
        "outputId": "8dc69113-6ea6-4848-c8a4-ef28d29c86c0"
      },
      "outputs": [
        {
          "name": "stdout",
          "output_type": "stream",
          "text": [
            "I live in USA and I work in India\n"
          ]
        }
      ],
      "source": [
        "print(\"I live in {0} and I work in {1}\".format(wc,lc), sep='-' )"
      ]
    },
    {
      "cell_type": "code",
      "execution_count": null,
      "id": "e3430dbc",
      "metadata": {
        "id": "e3430dbc",
        "outputId": "a9ae1202-2eac-4beb-f02a-56936bde0d36"
      },
      "outputs": [
        {
          "name": "stdout",
          "output_type": "stream",
          "text": [
            "Help on built-in function print in module builtins:\n",
            "\n",
            "print(...)\n",
            "    print(value, ..., sep=' ', end='\\n', file=sys.stdout, flush=False)\n",
            "    \n",
            "    Prints the values to a stream, or to sys.stdout by default.\n",
            "    Optional keyword arguments:\n",
            "    file:  a file-like object (stream); defaults to the current sys.stdout.\n",
            "    sep:   string inserted between values, default a space.\n",
            "    end:   string appended after the last value, default a newline.\n",
            "    flush: whether to forcibly flush the stream.\n",
            "\n"
          ]
        }
      ],
      "source": [
        "help(print)"
      ]
    },
    {
      "cell_type": "code",
      "execution_count": null,
      "id": "39a5ec45",
      "metadata": {
        "id": "39a5ec45",
        "outputId": "58de4cd1-d4cf-41dc-a657-cf1d48828a5c"
      },
      "outputs": [
        {
          "name": "stdout",
          "output_type": "stream",
          "text": [
            "HI      Python\n",
            "------\n",
            "Python\n"
          ]
        }
      ],
      "source": [
        "print(\"HI\", \"Python\" ,sep=6*' ')\n",
        "print(6*'-' )\n",
        "print(\"Python\")"
      ]
    },
    {
      "cell_type": "code",
      "execution_count": null,
      "id": "76d872cb",
      "metadata": {
        "id": "76d872cb",
        "outputId": "f4c1116c-df12-4bfa-b76f-e691954b0868"
      },
      "outputs": [
        {
          "name": "stdout",
          "output_type": "stream",
          "text": [
            "------\n"
          ]
        }
      ],
      "source": [
        "print(6 * '-')"
      ]
    },
    {
      "cell_type": "code",
      "execution_count": null,
      "id": "0676dc65",
      "metadata": {
        "id": "0676dc65"
      },
      "outputs": [],
      "source": [
        "f = open('E:\\\\Chitkara University\\\\July-Dec 2022\\\\PythonCourse\\\\Code\\\\abc.txt', 'w')\n",
        "#File opening in write mode\n",
        "# r read, w write, a append\n",
        "print('Hi welcome to python prog', file = f)\n",
        "f.close()"
      ]
    },
    {
      "cell_type": "code",
      "execution_count": null,
      "id": "424357b1",
      "metadata": {
        "id": "424357b1"
      },
      "outputs": [],
      "source": []
    }
  ],
  "metadata": {
    "kernelspec": {
      "display_name": "Python 3 (ipykernel)",
      "language": "python",
      "name": "python3"
    },
    "language_info": {
      "codemirror_mode": {
        "name": "ipython",
        "version": 3
      },
      "file_extension": ".py",
      "mimetype": "text/x-python",
      "name": "python",
      "nbconvert_exporter": "python",
      "pygments_lexer": "ipython3",
      "version": "3.9.12"
    },
    "colab": {
      "provenance": []
    }
  },
  "nbformat": 4,
  "nbformat_minor": 5
}